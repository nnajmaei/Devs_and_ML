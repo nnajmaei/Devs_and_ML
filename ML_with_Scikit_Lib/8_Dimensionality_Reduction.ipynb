{
 "cells": [
  {
   "cell_type": "code",
   "execution_count": 1,
   "id": "84b28028-6ca5-41f0-9d95-ddcd91e3f39b",
   "metadata": {},
   "outputs": [],
   "source": [
    "def warn(*args, **kwargs):\n",
    "    pass\n",
    "\n",
    "\n",
    "import warnings\n",
    "\n",
    "warnings.warn = warn\n",
    "\n",
    "import numpy as np\n",
    "\n",
    "## Make sure Python 3.7 or above is used\n",
    "import sys\n",
    "\n",
    "assert sys.version_info >= (3, 7)\n",
    "\n",
    "## Make sure Sklearn 1.0.1 or above is used\n",
    "from packaging import version\n",
    "import sklearn\n",
    "\n",
    "assert version.parse(sklearn.__version__) >= version.parse(\"1.0.1\")\n",
    "\n",
    "# Needed for importing the data\n",
    "from pathlib import Path\n",
    "import pandas as pd\n",
    "\n",
    "# for graph creation\n",
    "import matplotlib.pyplot as plt\n",
    "\n",
    "plt.rc(\"font\", size=14)\n",
    "plt.rc(\"axes\", labelsize=14, titlesize=14)\n",
    "plt.rc(\"legend\", fontsize=14)\n",
    "plt.rc(\"xtick\", labelsize=10)\n",
    "plt.rc(\"ytick\", labelsize=10)"
   ]
  },
  {
   "cell_type": "markdown",
   "id": "6bf7cce4-04e7-4f2e-96e2-4fce09640c97",
   "metadata": {},
   "source": [
    "# Dimensionality Reduction\n",
    "\n"
   ]
  }
 ],
 "metadata": {
  "kernelspec": {
   "display_name": "Python 3 (ipykernel)",
   "language": "python",
   "name": "python3"
  },
  "language_info": {
   "codemirror_mode": {
    "name": "ipython",
    "version": 3
   },
   "file_extension": ".py",
   "mimetype": "text/x-python",
   "name": "python",
   "nbconvert_exporter": "python",
   "pygments_lexer": "ipython3",
   "version": "3.10.13"
  }
 },
 "nbformat": 4,
 "nbformat_minor": 5
}
