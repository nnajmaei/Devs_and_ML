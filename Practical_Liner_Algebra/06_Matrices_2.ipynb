{
 "cells": [
  {
   "cell_type": "markdown",
   "id": "b433b2d9-c43d-4659-b30b-01bb319ed481",
   "metadata": {},
   "source": [
    "# Practical Linear Algebra for Data Science"
   ]
  },
  {
   "cell_type": "code",
   "execution_count": 1,
   "id": "e850b438-c77d-4211-8846-d41b0ae9ecfa",
   "metadata": {},
   "outputs": [],
   "source": [
    "import numpy as np\n",
    "import math\n",
    "import matplotlib.pyplot as plt\n",
    "import plotly.graph_objects as go\n",
    "from scipy.stats import pearsonr\n",
    "import scipy"
   ]
  },
  {
   "cell_type": "markdown",
   "id": "b626ccd1-2823-44b2-ad54-37bd145d53e1",
   "metadata": {},
   "source": [
    "###### ============================\n",
    "# Chapter 6\n",
    "## Matrices - 2\n",
    "\n",
    "#### Frobenius Norm (Euclidean Norm)\n",
    "\n",
    "$$||A||_{F} = \\sqrt{\\sum \\limits_{i=1}^{M} \\sum \\limits_{j=1}^{N} a_{ij}^2}=\\sqrt{tr(A^TA)}$$\n",
    "\n",
    "#### $p$-Norm\n",
    "\n",
    "$$||A||_{p} = ({\\sum \\limits_{i=1}^{M} \\sum \\limits_{j=1}^{N} |a_{ij}|^p})^{1/p}$$\n",
    "\n",
    "###### ============================\n",
    "\n",
    "### Trace\n",
    "\n",
    "- Trace of a matrix is the sum of its diagonal elements, $tr(A)$.\n",
    "- Trace is only for square matrices\n",
    "- Trace of a matrix equals the sum of it's eigenvalues (and it's a measure of the volume of it's eigenspace)\n",
    "\n",
    "$$||A||_F=\\sqrt{tr(A^TA)}$$\n",
    "\n",
    "###### ============================\n",
    "\n",
    "### Matrix Space and Null Space\n",
    "\n",
    "- Column space and Row Space:\n",
    "- Column: $v_i$ is i-th column of matrix, then $C([v_1 v_2 ... v_n)=\\lambda_1v_1+\\lambda_2v_2+...+\\lambda_nv_n$\n",
    "- Row: same as above but for rows $R(A)$ and we have $R(A)=C(A^T)$ (and $R(A)=C(A)$ if $A$ is symmetric.\n",
    "\n",
    "The <b><u><i>column space</i></u></b> can be summarized as $Ax=b$, and if there exits an $x \\in R^n$ that can create a weighted combinaton of columns of $A$, then $b$ is in the column space of $A$ ($b \\in C(A))$.\n",
    "\n",
    "The <b><u><i>null space</i></u></b> can be summarized as $Ay=0$, and if there exits an $y \\in R^n$ that can create a weighted combinaton of columns of $A$ is ZERO, then $y$ is in the null space of $A$ ($y \\in N(A)$) $y \\neq 0$.\n",
    "\n",
    "<i><u><b>NOTE</i></u></b>: Full rank matrices have an empty nullspace. Reduced-Rank matrices have a nonempty null space\n",
    "\n",
    "###### ============================\n",
    "\n",
    "### Rank\n",
    "\n",
    "Rank is related to the dimensionality of the matrix subspace. It is the largest number of columns (or rows) that for a linearly independet set.\n",
    "\n",
    "$$r(A)=rank(A)$$\n",
    "\n",
    "- Rank is nonnegative integer\n",
    "- A matrix has a unique rank\n",
    "- Maximum possible rank is equal or smaller than $\\min(M,N)$\n",
    "- A matrxi with maximum possible rank (i.e, $r(A)=\\min(M,N)$) is full-rank\n",
    "- A matrxi with less than maximum possible rank (i.e, $r(A)\\leq\\min(M,N)$) is singular or rank-reduced.\n",
    "- if $\\alpha \\neq 0$, then rank of matrix does not change by scalar multiplication of $r(\\alpha A)=r(A)$\n",
    "- If you have a Matrix A Mxr with rank r and Matrix B rxN with rank r, then AB is MxN and has rank r. This way you can create a matrix with rank r.\n",
    "- $A$, $A^T$, $A^TA$ and $AA^T$ all have the same rank\n",
    "\n",
    "<i><u><b>Rank of Special Matrices</i></u></b>:\n",
    "\n",
    "- Vectors = rank 1\n",
    "- Zero Marices = rank 0\n",
    "- Identity (NxN) = rank N\n",
    "- Diagonal = rank is number of non zero elements on diag\n",
    "- Triangular = is full-rank if there is no non-zero element on diag. Other than that, we need to calculate\n",
    "- Random Matrices = Impossible to say. But if random by gaussian (np.random,.randn()), then it is full-rank.\n",
    "- Shifted matrices = they have full-rank and it is one of the goals of shifting a matrix ($A \\in R^{N.N}$, $r(A+\\lambda I)=N$\n",
    "\n",
    "<i><u><b>Rank of Addition and multiplication</i></u></b>:\n",
    "\n",
    "- $r(A+B) \\le r(A) + r(B)$. rank of sum of two matrix could be greater than rank of one of the matrices.\n",
    "- $r(AB) \\le \\min{r(A),r(B)}$ rank of prodcuts can not be larger than the rank of one of the matrices\n",
    "\n",
    "RANK CAN BE COMPUTED AS THE NUMBER OF NONZERO SINGULAR VALUES (SVD).\n",
    "\n",
    "<i><u><b>Rank Applications</i></u></b>:\n",
    "\n",
    "- We can determine if a vector is in the subspace of a matrix, by augmenting the vector to the matrix and calculate rank. Augmenting means add the vector as extra columns to the matrix. e.g, we want to know if there is a solution for $Ax=b$, then $\\hat{A}=[A,b]$ and if $r(\\hat{A})=r(A)$ then $b$ is in space of $A$. If not, then it is not.\n",
    "- If we have a set of vectors, by intergrating all of them in a matrix and calculate the rank, we can determine if they are linearly independent or not.\n",
    "\n",
    "###### ============================\n",
    "\n",
    "### Determinant\n",
    "\n",
    "It is a geometric interpretation, related to how much the matrix streches the vectors during a mat-vec multiplication.\n",
    "- Defined for square matrices.\n",
    "- Dteerminant is zero for a non full-rank matrix (singular matrix).\n",
    "- np.linalg.det() or scipy.linalg.det() can be used\n",
    "\n"
   ]
  },
  {
   "cell_type": "code",
   "execution_count": 2,
   "id": "8f7b8d97-ce81-4e4f-ab24-93b928fc1a6b",
   "metadata": {},
   "outputs": [
    {
     "name": "stdout",
     "output_type": "stream",
     "text": [
      "A=\n",
      "[[2 2 2]\n",
      " [1 1 2]\n",
      " [2 1 0]]\n",
      "the nullspace of A is\n",
      "[]\n",
      "\n",
      "The rank of A is\n",
      "3\n",
      "det of A is 2.0\n",
      "\n",
      "B=\n",
      "[[ 1  2  1]\n",
      " [-2 -4 -2]\n",
      " [ 2  4  2]]\n",
      "the nullspace of B is\n",
      "[[ 0.          0.91287093]\n",
      " [-0.4472136  -0.36514837]\n",
      " [ 0.89442719 -0.18257419]]\n",
      "scipy.nullspace return a unit vector in N(A)\n",
      "The rank of B is\n",
      "1\n",
      "det of B is 0.0\n",
      "\n",
      "The rank of random C (2000, 200) is\n",
      "200\n"
     ]
    }
   ],
   "source": [
    "A = np.random.randint(0, 3, size=(3, 3))\n",
    "print(f\"A=\\n{A}\")\n",
    "\n",
    "print(f\"the nullspace of A is\\n{scipy.linalg.null_space(A)}\\n\")\n",
    "print(f\"The rank of A is\\n{np.linalg.matrix_rank(A)}\")\n",
    "print(f\"det of A is {np.linalg.det(A)}\\n\")\n",
    "\n",
    "B = np.array([[1, 2, 1], [-2, -4, -2], [2, 4, 2]])\n",
    "\n",
    "print(f\"B=\\n{B}\")\n",
    "\n",
    "print(f\"the nullspace of B is\\n{scipy.linalg.null_space(B)}\")\n",
    "print(f\"scipy.nullspace return a unit vector in N(A)\")\n",
    "print(f\"The rank of B is\\n{np.linalg.matrix_rank(B)}\")\n",
    "print(f\"det of B is {np.linalg.det(B)}\\n\")\n",
    "\n",
    "\n",
    "C = np.random.randn(2000, 200)\n",
    "print(f\"The rank of random C {C.shape} is\\n{np.linalg.matrix_rank(C)}\")\n",
    "# print(f'det of C is {np.linalg.det(C)}\\n')"
   ]
  },
  {
   "cell_type": "code",
   "execution_count": 3,
   "id": "cd7bb3ad-ba5b-49e0-932b-ac2f9dcfc331",
   "metadata": {},
   "outputs": [
    {
     "data": {
      "image/png": "[encoded data removed]",
      "text/plain": [
       "<Figure size 300x300 with 1 Axes>"
      ]
     },
     "metadata": {},
     "output_type": "display_data"
    }
   ],
   "source": [
    "# Exer2\n",
    "\n",
    "\n",
    "def Feb_dist(A, B):\n",
    "    return np.linalg.norm(A - B)\n",
    "\n",
    "\n",
    "n_exp = 1000\n",
    "nIters = np.zeros((1, n_exp))\n",
    "\n",
    "for i in range(n_exp):\n",
    "    A = np.random.randn(7, 7)\n",
    "    B = np.random.randn(7, 7)\n",
    "\n",
    "    s = 1\n",
    "    iter = 0\n",
    "    while Feb_dist(s * A, s * B) > 1:\n",
    "        s *= 0.9\n",
    "        iter += 1\n",
    "    nIters[0, i] = iter\n",
    "\n",
    "_, axs = plt.subplots(figsize=(3, 3))\n",
    "axs = plt.hist(nIters[0, :])\n",
    "axs = plt.xlabel(\"Number of iterations\")\n",
    "axs = plt.ylabel(\"Count\")\n",
    "plt.show()"
   ]
  },
  {
   "cell_type": "code",
   "execution_count": 4,
   "id": "fd642ce0-6229-4e2f-a3e6-0b9862538973",
   "metadata": {},
   "outputs": [
    {
     "name": "stdout",
     "output_type": "stream",
     "text": [
      "[9.9 9.9 9.9]\n"
     ]
    },
    {
     "data": {
      "text/plain": [
       "True"
      ]
     },
     "execution_count": 4,
     "metadata": {},
     "output_type": "execute_result"
    }
   ],
   "source": [
    "# Exer3\n",
    "def Feb_norm(A):\n",
    "    norm_1 = np.sqrt(np.sum(A**2))\n",
    "    norm_2 = np.linalg.norm(A)\n",
    "    norm_3 = np.sqrt(np.sum(np.diag(A.T @ A)))\n",
    "    print(np.around([norm_1, norm_2, norm_3], 2))\n",
    "    if abs(norm_1 - norm_2) < 0.000001 and abs(norm_1 - norm_3) < 0.000001:\n",
    "        return True\n",
    "    else:\n",
    "        return False\n",
    "\n",
    "\n",
    "A = np.random.randn(10, 10)\n",
    "Feb_norm(A)"
   ]
  },
  {
   "cell_type": "code",
   "execution_count": 5,
   "id": "85da3b67-3ce7-4f31-856b-9d197054a2c3",
   "metadata": {},
   "outputs": [
    {
     "data": {
      "image/png": "[encoded data removed]",
      "text/plain": [
       "<Figure size 900x300 with 3 Axes>"
      ]
     },
     "metadata": {},
     "output_type": "display_data"
    }
   ],
   "source": [
    "# Exer4\n",
    "N = 10\n",
    "A = np.random.randn(N, N)\n",
    "norm_A = np.linalg.norm(A)\n",
    "\n",
    "scalars = np.linspace(0, 1, 30)\n",
    "shiftingResults = np.zeros((scalars.shape[0], 3))\n",
    "resultsNames = [\"Change in norm (%)\", \"Corr. with original\", \"Frobenius distance\"]\n",
    "\n",
    "\n",
    "for i in range(len(scalars)):\n",
    "    As = A + scalars[i] * norm_A * np.eye(N)\n",
    "    shiftingResults[i, 0] = (np.linalg.norm(As) - norm_A) * 100 / norm_A\n",
    "    shiftingResults[i, 2] = Feb_dist(A, As)\n",
    "    shiftingResults[i, 1] = np.corrcoef(A.flatten(), As.flatten())[0, 1]\n",
    "\n",
    "\n",
    "_, axs = plt.subplots(1, 3, figsize=(9, 3))\n",
    "\n",
    "for i in range(3):\n",
    "\n",
    "    # plot the results\n",
    "    axs[i].plot(scalars, shiftingResults[:, i], \"ks-\")\n",
    "    axs[i].set_xlabel(\"Shifting (prop. of norm)\")\n",
    "    axs[i].set_ylabel(resultsNames[i])\n",
    "\n",
    "plt.tight_layout()\n",
    "plt.show()"
   ]
  },
  {
   "cell_type": "code",
   "execution_count": 6,
   "id": "571bf38a-65d7-4a50-aee4-cf0faf423bf9",
   "metadata": {},
   "outputs": [
    {
     "name": "stdout",
     "output_type": "stream",
     "text": [
      "(5, 8)\n",
      "3\n"
     ]
    }
   ],
   "source": [
    "# Exer5 - Creating a random marix MxN with constat rank r\n",
    "M = 5\n",
    "N = 8\n",
    "r = 3\n",
    "\n",
    "\n",
    "def r_Rank_matrix(M, N, r):\n",
    "    A = np.random.randn(M, r) @ np.random.randn(r, N)\n",
    "    return A, np.linalg.matrix_rank(A)\n",
    "\n",
    "\n",
    "A, rank = r_Rank_matrix(M, N, r)\n",
    "print(A.shape)\n",
    "print(rank)"
   ]
  },
  {
   "cell_type": "code",
   "execution_count": 7,
   "id": "3e87d4f1-0777-4aa7-bb0d-cff10c83fab9",
   "metadata": {},
   "outputs": [
    {
     "data": {
      "image/png": "[encoded data removed]",
      "text/plain": [
       "<Figure size 600x300 with 4 Axes>"
      ]
     },
     "metadata": {},
     "output_type": "display_data"
    }
   ],
   "source": [
    "# Exer 7\n",
    "matSize = 20  # matrix size (square)\n",
    "rs = range(2, 16)  # range of ranks\n",
    "\n",
    "Ranks = np.zeros((len(rs), len(rs), 2))\n",
    "\n",
    "for i in range(len(rs)):\n",
    "    for j in range(len(rs)):\n",
    "        # create the matrices\n",
    "        S = (\n",
    "            r_Rank_matrix(matSize, matSize, rs[i])[0]\n",
    "            + r_Rank_matrix(matSize, matSize, rs[j])[0]\n",
    "        )\n",
    "        M = (\n",
    "            r_Rank_matrix(matSize, matSize, rs[i])[0]\n",
    "            @ r_Rank_matrix(matSize, matSize, rs[j])[0]\n",
    "        )\n",
    "\n",
    "        # compute their ranks\n",
    "        Ranks[i, j, 0] = np.linalg.matrix_rank(S)\n",
    "        Ranks[i, j, 1] = np.linalg.matrix_rank(M)\n",
    "\n",
    "\n",
    "fig, axs = plt.subplots(1, 2, figsize=(6, 3))\n",
    "s = \"+@\"  # symbols for title\n",
    "\n",
    "for i in range(2):\n",
    "\n",
    "    # draw heatmat\n",
    "    h = axs[i].imshow(\n",
    "        Ranks[:, :, i],\n",
    "        vmin=np.min(rs),\n",
    "        vmax=np.max(rs),\n",
    "        origin=\"lower\",\n",
    "        extent=(rs[0], rs[-1], rs[0], rs[-1]),\n",
    "        cmap=\"gray\",\n",
    "    )\n",
    "\n",
    "    # add colorbar and other niceties\n",
    "    fig.colorbar(h, ax=axs[i], fraction=0.045)\n",
    "    axs[i].set_xlabel(\"Rank of A\")\n",
    "    axs[i].set_ylabel(\"Rank of B\")\n",
    "    axs[i].set_title(f\"Rank of A{s[i]}B\")\n",
    "\n",
    "\n",
    "plt.tight_layout()\n",
    "plt.show()"
   ]
  },
  {
   "cell_type": "code",
   "execution_count": 8,
   "id": "51bc8407-42dd-4af3-b086-5b10cd2cac87",
   "metadata": {},
   "outputs": [
    {
     "name": "stdout",
     "output_type": "stream",
     "text": [
      "rank of A is 5\n",
      "rank of A^T is 5\n",
      "rank of A^TA is 5\n",
      "rank of AA^T is 5\n"
     ]
    }
   ],
   "source": [
    "# Exer 8\n",
    "A = np.random.randn(10, 5)\n",
    "print(f\"rank of A is {np.linalg.matrix_rank(A)}\")\n",
    "print(f\"rank of A^T is {np.linalg.matrix_rank(A.T)}\")\n",
    "print(f\"rank of A^TA is {np.linalg.matrix_rank(A.T@A)}\")\n",
    "print(f\"rank of AA^T is {np.linalg.matrix_rank(A@A.T)}\")"
   ]
  },
  {
   "cell_type": "code",
   "execution_count": 9,
   "id": "dfe1a525-b675-4727-a663-d3bf111e7981",
   "metadata": {},
   "outputs": [
    {
     "name": "stdout",
     "output_type": "stream",
     "text": [
      "False\n",
      "True\n"
     ]
    }
   ],
   "source": [
    "# Exer 9\n",
    "\n",
    "\n",
    "def is_V_inColA(A, v):\n",
    "    if A.shape[0] != v.shape[0]:\n",
    "        raise Exception(\n",
    "            \"Size mismatch! A and v must have the same column dimensionality!.\"\n",
    "        )\n",
    "\n",
    "    # compute ranks\n",
    "    rankA = np.linalg.matrix_rank(A)\n",
    "    rankAv = np.linalg.matrix_rank(np.hstack((A, v)))\n",
    "\n",
    "    # function outputs TRUE if v \\in C(A)\n",
    "    return rankA == rankAv\n",
    "\n",
    "\n",
    "A, r = r_Rank_matrix(4, 3, 3)\n",
    "\n",
    "v = np.random.randn(4, 1)\n",
    "\n",
    "print(is_V_inColA(A, v))\n",
    "\n",
    "\n",
    "A, r = r_Rank_matrix(4, 4, 4)\n",
    "\n",
    "v = np.random.randn(4, 1)\n",
    "\n",
    "print(is_V_inColA(A, v))"
   ]
  },
  {
   "cell_type": "code",
   "execution_count": 10,
   "id": "4914b085-b4a9-4d1b-9cad-c3ed427368e0",
   "metadata": {},
   "outputs": [
    {
     "data": {
      "image/png": "[encoded data removed]",
      "text/plain": [
       "<Figure size 300x300 with 1 Axes>"
      ]
     },
     "metadata": {},
     "output_type": "display_data"
    }
   ],
   "source": [
    "# Exer 10\n",
    "ns = np.arange(3, 31)\n",
    "\n",
    "# iteration\n",
    "iters = 100\n",
    "\n",
    "# initialize\n",
    "dets = np.zeros((len(ns), iters))\n",
    "\n",
    "# loop over matrix sizes\n",
    "for ni in range(len(ns)):\n",
    "    for i in range(iters):\n",
    "\n",
    "        # step 1\n",
    "        A = np.random.randn(ns[ni], ns[ni])\n",
    "\n",
    "        # step 2\n",
    "        A[:, 0] = A[:, 1]\n",
    "\n",
    "        # step 3\n",
    "        dets[ni, i] = np.abs(np.linalg.det(A))\n",
    "\n",
    "\n",
    "# note: the number of elements in a square matrix is the columns squared\n",
    "\n",
    "\n",
    "# plotting\n",
    "plt.figure(figsize=(3, 3))\n",
    "plt.plot(ns**2, np.log(np.mean(dets, axis=1)), \"ks-\", linewidth=3)\n",
    "plt.xlabel(\"Number of elements in the matrix\")\n",
    "plt.ylabel(\"Log determinant\")\n",
    "plt.title(\"Empirical determinants of singular matrices\")\n",
    "plt.show()"
   ]
  }
 ],
 "metadata": {
  "kernelspec": {
   "display_name": "Python 3 (ipykernel)",
   "language": "python",
   "name": "python3"
  },
  "language_info": {
   "codemirror_mode": {
    "name": "ipython",
    "version": 3
   },
   "file_extension": ".py",
   "mimetype": "text/x-python",
   "name": "python",
   "nbconvert_exporter": "python",
   "pygments_lexer": "ipython3",
   "version": "3.10.11"
  }
 },
 "nbformat": 4,
 "nbformat_minor": 5
}
