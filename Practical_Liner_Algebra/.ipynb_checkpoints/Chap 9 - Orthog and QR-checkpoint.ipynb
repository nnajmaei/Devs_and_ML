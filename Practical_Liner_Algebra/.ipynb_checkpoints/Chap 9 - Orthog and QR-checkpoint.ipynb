{
 "cells": [
  {
   "cell_type": "markdown",
   "id": "b433b2d9-c43d-4659-b30b-01bb319ed481",
   "metadata": {},
   "source": [
    "# Practical Linear Algebra for Data Science"
   ]
  },
  {
   "cell_type": "code",
   "execution_count": null,
   "id": "f289c203-f77c-45c5-abc8-89a75cd0e10c",
   "metadata": {},
   "outputs": [],
   "source": [
    "import numpy as np\n",
    "import matplotlib.pyplot as plt\n",
    "\n",
    "# setup animation\n",
    "import matplotlib.animation as animation\n",
    "from matplotlib import rc\n",
    "rc('animation', html='jshtml')\n",
    "\n",
    "\n",
    "# to read an image from a url (io) and convert it to grayscale (color)\n",
    "from skimage import io,color\n",
    "# convolution\n",
    "from scipy.signal import convolve2d\n",
    "from scipy.linalg import hilbert\n",
    "\n",
    "\n",
    "import pandas as pd\n",
    "\n",
    "\n",
    "# NOTE: these lines define global figure properties used for publication.\n",
    "import matplotlib_inline.backend_inline\n",
    "matplotlib_inline.backend_inline.set_matplotlib_formats('svg') # display figures in vector format\n",
    "plt.rcParams.update({'font.size':14}) # set global font size"
   ]
  },
  {
   "cell_type": "markdown",
   "id": "e89f3812-ff0b-4803-85b0-d38535840218",
   "metadata": {},
   "source": [
    "###### ============================\n",
    "### Orthognal Matrices and QR Decomposition\n",
    "#### (Chapter 9)\n",
    "\n"
   ]
  }
 ],
 "metadata": {
  "kernelspec": {
   "display_name": "Python 3 (ipykernel)",
   "language": "python",
   "name": "python3"
  },
  "language_info": {
   "codemirror_mode": {
    "name": "ipython",
    "version": 3
   },
   "file_extension": ".py",
   "mimetype": "text/x-python",
   "name": "python",
   "nbconvert_exporter": "python",
   "pygments_lexer": "ipython3",
   "version": "3.10.11"
  }
 },
 "nbformat": 4,
 "nbformat_minor": 5
}
