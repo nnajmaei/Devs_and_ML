{
 "cells": [
  {
   "cell_type": "markdown",
   "id": "b433b2d9-c43d-4659-b30b-01bb319ed481",
   "metadata": {},
   "source": [
    "# Practical Linear Algebra for Data Science"
   ]
  },
  {
   "cell_type": "code",
   "execution_count": 1,
   "id": "4eceb077-f478-47d2-927c-dadbd11a664c",
   "metadata": {},
   "outputs": [],
   "source": [
    "import numpy as np\n",
    "import math\n",
    "import matplotlib.pyplot as plt\n",
    "import plotly.graph_objects as go\n",
    "from scipy.stats import pearsonr\n",
    "import scipy"
   ]
  },
  {
   "cell_type": "markdown",
   "id": "f49f4b25-d68e-40ba-b92b-95e07e7454aa",
   "metadata": {},
   "source": [
    "###### ============================\n",
    "###### ============================\n",
    "## Part 1 - Vectors\n",
    "### (Chapter 2)\n",
    "We can define vectors as an array or Row Vectors or Column vectors as followed"
   ]
  },
  {
   "cell_type": "code",
   "execution_count": 2,
   "id": "ceabd07f-e500-4ff6-90bf-97b2c69aac00",
   "metadata": {
    "tags": []
   },
   "outputs": [
    {
     "name": "stdout",
     "output_type": "stream",
     "text": [
      "asList [1, 2, 3] has dimension: (3,)\n",
      "---\n",
      "asArray [1 2 3] has dimension: (3,)\n",
      "---\n",
      "RowVec [[1 2 3]] has dimension: (1, 3)\n",
      "---\n",
      "ColVec\n",
      "[[1]\n",
      " [2]\n",
      " [3]] has dimension: (3, 1)\n",
      "---\n"
     ]
    }
   ],
   "source": [
    "asList = [1,2,3]\n",
    "asArray = np.array([1,2,3])\n",
    "RowVec = np.array([[1,2,3]])\n",
    "ColVec = np.array([[1],[2],[3]])\n",
    "\n",
    "print(f'asList {asList} has dimension: {np.shape(asList)}\\n---')\n",
    "print(f'asArray {asArray} has dimension: {asArray.shape}\\n---')\n",
    "print(f'RowVec {RowVec} has dimension: {RowVec.shape}\\n---')\n",
    "print(f'ColVec\\n{ColVec} has dimension: {ColVec.shape}\\n---')"
   ]
  },
  {
   "cell_type": "markdown",
   "id": "791b4494-f4ac-4c32-a4bd-68bac96b43c1",
   "metadata": {},
   "source": [
    "###### ============================\n",
    "### Vector Operations\n",
    "#### Vector Addition\n",
    "The two vectors with the same <u>dimensionality</u> and <u>orientation</u> can be added with + operator (addition of corresponding elements)"
   ]
  },
  {
   "cell_type": "code",
   "execution_count": 3,
   "id": "e34bca4d-3cae-47ef-bc0f-ac9470f51365",
   "metadata": {},
   "outputs": [
    {
     "name": "stdout",
     "output_type": "stream",
     "text": [
      "a+b = [7 2]\n"
     ]
    },
    {
     "data": {
      "image/png": "[encoded data removed]",
      "text/plain": [
       "<Figure size 300x300 with 1 Axes>"
      ]
     },
     "metadata": {},
     "output_type": "display_data"
    }
   ],
   "source": [
    "a=np.array([6,1])\n",
    "b=np.array([1,1])\n",
    "print(f'a+b = {a+b}')\n",
    "\n",
    "aPlusB = a+b\n",
    "plt.figure(figsize=(3,3))\n",
    "a1=plt.arrow(0,0,a[0],a[1],head_width=.3,width=.1,color='k',length_includes_head=True)\n",
    "a2=plt.arrow(a[0],a[1],b[0],b[1],head_width=.3,width=.1,color=[.5,.5,.5],length_includes_head=True)\n",
    "a3=plt.arrow(0,0,aPlusB[0],aPlusB[1],head_width=.3,width=.1,color=[.8,.8,.8],length_includes_head=True)\n",
    "plt.grid(linestyle='--',linewidth=.5)\n",
    "plt.axis('square')\n",
    "plt.axis([0,7,0,2])\n",
    "plt.legend([a1,a2,a3],['a','b','a+b'])\n",
    "plt.title('Vectors Sum')\n",
    "plt.show()"
   ]
  },
  {
   "cell_type": "code",
   "execution_count": 4,
   "id": "7f91da9b-e19e-40e6-99e6-b92a6db1a381",
   "metadata": {},
   "outputs": [
    {
     "name": "stdout",
     "output_type": "stream",
     "text": [
      "a+b = [ 4 -1]\n"
     ]
    },
    {
     "data": {
      "image/png": "[encoded data removed]",
      "text/plain": [
       "<Figure size 300x300 with 1 Axes>"
      ]
     },
     "metadata": {},
     "output_type": "display_data"
    }
   ],
   "source": [
    "a=np.array([6,1])\n",
    "b=np.array([2,2])\n",
    "print(f'a+b = {a-b}')\n",
    "\n",
    "aMinusb = a-b\n",
    "plt.figure(figsize=(3,3))\n",
    "a1=plt.arrow(0,0,a[0],a[1],head_width=.3,width=.1,color='k',length_includes_head=True)\n",
    "a2=plt.arrow(0,0,b[0],b[1],head_width=.3,width=.1,color=[.5,.5,.5],length_includes_head=True)\n",
    "a3=plt.arrow(b[0],b[1],aMinusb[0],aMinusb[1],head_width=.3,width=.1,color=[.8,.8,.8],length_includes_head=True)\n",
    "plt.grid(linestyle='--',linewidth=.5)\n",
    "plt.axis('square')\n",
    "plt.axis([0,7,0,2])\n",
    "plt.legend([a1,a2,a3],['a','b','a-b'])\n",
    "plt.title('Vectors Sum')\n",
    "plt.show()"
   ]
  },
  {
   "cell_type": "markdown",
   "id": "c6c88390-e506-48f9-b3df-a878290689bc",
   "metadata": {},
   "source": [
    "###### ============================\n",
    "### Othogonal Vector Decomposition (<u>orthogonal projection</u>)\n",
    "\n",
    "The projection of vector v on vector w, is the following vector:\n",
    "$$\\beta w = (\\frac{v^{T}w}{w^{T}w})w$$\n",
    "and the orthogonal component is\n",
    "$$v-\\beta w$$"
   ]
  },
  {
   "cell_type": "markdown",
   "id": "d9dfc535-350a-4c0e-8828-35237f655de9",
   "metadata": {},
   "source": [
    "#### Vector-Scalar Multiplication\n",
    "Scalar can be mulitplied to a vector by * operator. Note that for <u>lists</u> the * operator only repeats the list n times."
   ]
  },
  {
   "cell_type": "code",
   "execution_count": 5,
   "id": "f8d775cf-2eef-4b04-beb3-b337064428d7",
   "metadata": {},
   "outputs": [
    {
     "name": "stdout",
     "output_type": "stream",
     "text": [
      "List multiplication asList*2 = [1, 2, 3, 1, 2, 3]\n",
      "Vec-Scalar Multiplication a*2 = [12  2]\n",
      "Vec-Scalar Multiplication b.T*2 = \n",
      "[4 4]\n"
     ]
    }
   ],
   "source": [
    "print(f'List multiplication asList*2 = {2*asList}')\n",
    "print(f'Vec-Scalar Multiplication a*2 = {2*a}')\n",
    "print(f'Vec-Scalar Multiplication b.T*2 = \\n{2*b.T}')"
   ]
  },
  {
   "cell_type": "markdown",
   "id": "c02a440a-67b2-4d3e-b121-87357b8603d9",
   "metadata": {},
   "source": [
    "#### Scalar-Vector Addition\n",
    "Although in liner algebra we do not have this concept, but in Python if you add with + a scalar and a vector, it adds the scalar to each elemnt of the vector"
   ]
  },
  {
   "cell_type": "code",
   "execution_count": 6,
   "id": "6d5e7006-55a4-4ad7-81c5-fdeb61d2e341",
   "metadata": {},
   "outputs": [
    {
     "name": "stdout",
     "output_type": "stream",
     "text": [
      "2+a = [8 3]\n"
     ]
    }
   ],
   "source": [
    "print(f'2+a = {2+a}')"
   ]
  },
  {
   "cell_type": "markdown",
   "id": "af378b8a-37f4-4ca3-ae72-9f3538e5ab0c",
   "metadata": {},
   "source": [
    "#### Vector Transpose\n",
    "v.T.T=v"
   ]
  },
  {
   "cell_type": "code",
   "execution_count": 7,
   "id": "5275623c-491a-4100-87d2-fabaec0fb568",
   "metadata": {},
   "outputs": [
    {
     "name": "stdout",
     "output_type": "stream",
     "text": [
      "Transpose of a =\n",
      "[6 1]\n",
      "Transpose of b.T =[2 2]\n"
     ]
    }
   ],
   "source": [
    "print(f'Transpose of a =\\n{a.T}')\n",
    "print(f'Transpose of b.T ={b.T.T}')"
   ]
  },
  {
   "cell_type": "code",
   "execution_count": 8,
   "id": "2c436938-a2a4-420b-84dd-964ca2a8ecd5",
   "metadata": {},
   "outputs": [
    {
     "name": "stdout",
     "output_type": "stream",
     "text": [
      "[[1. 2. 3.]]\n"
     ]
    }
   ],
   "source": [
    "v = np.array([[1,2,3]]).T\n",
    "\n",
    "def vector_transpose(v):\n",
    "    v_shape = np.shape(v)\n",
    "    v_t = np.zeros((v_shape[1],v_shape[0]))\n",
    "    if v_shape[1]>v_shape[0]:\n",
    "        for i in range(v_shape[1]):\n",
    "            v_t[i,0]=v[0,i]\n",
    "    else:\n",
    "        for i in range(v_shape[0]):\n",
    "            v_t[0,i]=v[i,0]\n",
    "    return v_t\n",
    "\n",
    "print(vector_transpose(v))\n",
    "            "
   ]
  },
  {
   "cell_type": "markdown",
   "id": "828f7377-72ad-45b0-ac25-17947d02f2c1",
   "metadata": {},
   "source": [
    "#### Broadcasting\n",
    "\n",
    "Repeats an operation multiple times between one vector and each element of another vector. If we + a column vector with a row vector (with differetn dimensions), then it will create a matrix:"
   ]
  },
  {
   "cell_type": "code",
   "execution_count": 9,
   "id": "be86ee61-ed07-4ce3-8158-6b5b32238507",
   "metadata": {},
   "outputs": [
    {
     "name": "stdout",
     "output_type": "stream",
     "text": [
      "v+w = w+v =\n",
      "[[4 5]\n",
      " [5 6]\n",
      " [6 7]]\n"
     ]
    }
   ],
   "source": [
    "v=np.array([[1,2]]) #row\n",
    "w=np.array([[3,4,5]]).T #column\n",
    "\n",
    "print(f'v+w = w+v =\\n{v+w}')"
   ]
  },
  {
   "cell_type": "markdown",
   "id": "641292c5-fe2f-4726-91f8-26f428978a80",
   "metadata": {},
   "source": [
    "#### Hadamard Multiplication\n",
    "\n",
    "Multiplying each corresponding element. An N-vector multiplied by another N-vector resturns an N-vector."
   ]
  },
  {
   "cell_type": "code",
   "execution_count": 10,
   "id": "5384ddbd-bc37-410c-9a7f-46b3342fcbc0",
   "metadata": {},
   "outputs": [
    {
     "name": "stdout",
     "output_type": "stream",
     "text": [
      "v*w = [[ 3  8 15]]\n"
     ]
    }
   ],
   "source": [
    "v=np.array([[1,2,3]]) #row\n",
    "w=np.array([[3,4,5]]) #row\n",
    "print(f'v*w = {v*w}')"
   ]
  },
  {
   "cell_type": "markdown",
   "id": "08d478f1-0334-4f8f-849f-118ae4c430c8",
   "metadata": {},
   "source": [
    "###### ============================\n",
    "### Norm or Magnitude\n",
    "Distance from the tail to head of the vector (Euclidean distance)\n",
    "$$||v|| = \\sqrt{\\sum \\limits_{i=1}^{n}v_{i}^2} $$\n",
    "\n",
    "To obtain the unit vector alligned to another vector:\n",
    "$$\\hat v = \\frac{v}{||v||}$$"
   ]
  },
  {
   "cell_type": "code",
   "execution_count": 11,
   "id": "ad3254d0-e969-4fa3-b4da-4e6da7382a35",
   "metadata": {},
   "outputs": [
    {
     "name": "stdout",
     "output_type": "stream",
     "text": [
      "Norm obtained by equation = 3.7417\n",
      "Norm obtained by method = 3.7417\n",
      "Unit Vector aligned with v = [[0.26726124 0.53452248 0.80178373]]\n"
     ]
    }
   ],
   "source": [
    "norm_equation = np.sqrt(np.sum(v**2))\n",
    "norm_function = np.linalg.norm(v)\n",
    "print(f'Norm obtained by equation = {norm_equation:.4f}')\n",
    "print(f'Norm obtained by method = {norm_function:.4f}')\n",
    "print(f'Unit Vector aligned with v = {v/np.linalg.norm(v)}')"
   ]
  },
  {
   "cell_type": "markdown",
   "id": "22baa0ca-d046-41c3-88f0-a72b6903dee9",
   "metadata": {},
   "source": [
    "###### ============================\n",
    "### Dot/Inner Product\n",
    "$$ v.w = <v,w> = v^Tw = \\sum \\limits_{i=1}^{n}v_{i}w{i}$$\n",
    "$$(\\alpha v).w=\\alpha(v.w)$$\n",
    "$$v.(w+z)=v.w+v.z$$\n",
    "$$w.w = ||w||^2$$\n",
    "\n",
    "Dor product is a measure of similarity or mapping between two vectors"
   ]
  },
  {
   "cell_type": "code",
   "execution_count": 12,
   "id": "909f53ae-12bc-4e93-ac19-e56a7125ba22",
   "metadata": {},
   "outputs": [
    {
     "name": "stdout",
     "output_type": "stream",
     "text": [
      "v.w = [[26]]\n"
     ]
    }
   ],
   "source": [
    "v=np.array([[1,2,3]]) #row\n",
    "w=np.array([[3,4,5]]) #row\n",
    "print(f'v.w = {np.dot(v,w.T)}')"
   ]
  },
  {
   "cell_type": "markdown",
   "id": "e19e31b4-0c09-416d-9632-a77a0f50d053",
   "metadata": {},
   "source": [
    "#### Outer Product\n",
    "\n",
    "A way of creating a matrix from two vectors. if column vector (Nx1) is multuplied by a row vector (1xM), it return an NxM matrix\n",
    "$$v.w^{T}$$"
   ]
  },
  {
   "cell_type": "code",
   "execution_count": 13,
   "id": "842f0a8f-bba4-4240-9c22-ad75c759b733",
   "metadata": {},
   "outputs": [
    {
     "name": "stdout",
     "output_type": "stream",
     "text": [
      "Outer Product using dot function\n",
      " [[ 3  4  5]\n",
      " [ 6  8 10]\n",
      " [ 9 12 15]]\n",
      "Outer Product using outer function\n",
      " [[ 3  4  5]\n",
      " [ 6  8 10]\n",
      " [ 9 12 15]]\n"
     ]
    }
   ],
   "source": [
    "print(f'Outer Product using dot function\\n {np.dot(v.T,w)}')\n",
    "print(f'Outer Product using outer function\\n {np.outer(v,w)}')"
   ]
  },
  {
   "cell_type": "markdown",
   "id": "93880a2b-fe5e-4609-bf55-3d2bced9c0f6",
   "metadata": {},
   "source": [
    "### Angle\n",
    "\n",
    "$$cos(\\theta)=\\frac{v^T.w}{||v||||w||}$$\n",
    "\n",
    "Two vectors can be acute (cos(angle)>0), obstuse (cos(angle)<0), orthgonal, or collinear."
   ]
  },
  {
   "cell_type": "markdown",
   "id": "db4a8712-3b59-4ddb-a740-d7f7b260abe9",
   "metadata": {},
   "source": [
    "###### ============================\n",
    "### Othogonal Vector Decomposition (<u>orthogonal projection</u>)\n",
    "\n",
    "The projection of vector v on vector w, is the following vector:\n",
    "$$\\beta w = (\\frac{v^{T}w}{w^{T}w})w$$\n",
    "and the orthogonal component is\n",
    "$$v-\\beta w$$"
   ]
  },
  {
   "cell_type": "code",
   "execution_count": 14,
   "id": "db02aef9-dc1f-4ef7-aeb5-f061e5929698",
   "metadata": {},
   "outputs": [
    {
     "name": "stdout",
     "output_type": "stream",
     "text": [
      "Cos of the angle between v and w is: [[1.27586207]]\n",
      "Projection of v on w is: [[5.18 0.74]]\n",
      "Orthogonal component of v on w is: [[-0.18  1.26]]\n",
      "These two are orthogonal because their dor product is 0: [1.55431223e-15]\n"
     ]
    }
   ],
   "source": [
    "v=np.array([[5,2]])\n",
    "w=np.array([[7,1]])\n",
    "v_col = (np.dot(v,w.T)/np.dot(w,w.T))*w\n",
    "v_orth = v - v_col\n",
    "print(f'Cos of the angle between v and w is: {np.dot(v,w.T)/(np.linalg.norm(v)*np.linalg.norm(v))}')\n",
    "print(f'Projection of v on w is: {v_col}')\n",
    "print(f'Orthogonal component of v on w is: {v_orth}')\n",
    "print(f'These two are orthogonal because their dor product is 0: {np.dot(v_col,v_orth.T)[0]}')"
   ]
  },
  {
   "cell_type": "code",
   "execution_count": 15,
   "id": "5cb92783-6ba7-4609-975e-40694926184a",
   "metadata": {},
   "outputs": [
    {
     "data": {
      "image/png": "[encoded data removed]",
      "text/plain": [
       "<Figure size 300x300 with 1 Axes>"
      ]
     },
     "metadata": {},
     "output_type": "display_data"
    }
   ],
   "source": [
    "plt.figure(figsize=(3,3))\n",
    "plt.arrow(0,0,v[0,0],v[0,1],head_width=.2,width=.02,color='k',length_includes_head=True)\n",
    "plt.arrow(0,0,w[0,0],w[0,1],head_width=.2,width=.02,color='k',length_includes_head=True)\n",
    "plt.arrow(0,0,v_col[0,0],v_col[0,1],head_width=.2,width=.02,color='k',length_includes_head=True)\n",
    "plt.arrow(0,0,v_orth[0,0],v_orth[0,1],head_width=.2,width=.02,color='k',length_includes_head=True)\n",
    "plt.plot([v[0,0],v_col[0,0]],[v[0,1],v_col[0,1]],'k--')\n",
    "plt.plot([v[0,0],v_orth[0,0]],[v[0,1],v_orth[0,1]],'k--')\n",
    "plt.plot(v_col[0,0],v_col[0,1],'ko',markerfacecolor='w',markersize=13)\n",
    "\n",
    "plt.plot([-1,2.5],[0,0],'--',color='gray',linewidth=.5)\n",
    "plt.plot([0,0],[-1,2.5],'--',color='gray',linewidth=.5)\n",
    "\n",
    "# add labels\n",
    "plt.text(w[0,0]+.1,w[0,1]+0.3,'w',fontweight='bold',fontsize=8)\n",
    "plt.text(v[0,0]+.1,v[0,1]+.3,'v',fontweight='bold',fontsize=8)\n",
    "plt.text(v_col[0,0]+.1,v_col[0,1]+.3,'v_col',fontweight='bold',fontsize=8)\n",
    "plt.text(v_orth[0,0]+.1,v_orth[0,1]+.3,'v_orth',fontweight='bold',fontsize=8)\n",
    "plt.axis('square')\n",
    "plt.axis([-1,10,-1,3])\n",
    "plt.show()\n"
   ]
  }
 ],
 "metadata": {
  "kernelspec": {
   "display_name": "Python 3 (ipykernel)",
   "language": "python",
   "name": "python3"
  },
  "language_info": {
   "codemirror_mode": {
    "name": "ipython",
    "version": 3
   },
   "file_extension": ".py",
   "mimetype": "text/x-python",
   "name": "python",
   "nbconvert_exporter": "python",
   "pygments_lexer": "ipython3",
   "version": "3.10.11"
  }
 },
 "nbformat": 4,
 "nbformat_minor": 5
}
