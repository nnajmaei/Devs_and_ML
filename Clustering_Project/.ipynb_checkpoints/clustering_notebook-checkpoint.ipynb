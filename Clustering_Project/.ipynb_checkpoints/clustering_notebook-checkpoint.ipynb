{
 "cells": [
  {
   "cell_type": "markdown",
   "id": "d5008d61-be8f-462d-b166-f3cee69670fe",
   "metadata": {
    "tags": []
   },
   "source": [
    "# Clustering Implementation\n",
    "## Using k-mean algorithm"
   ]
  },
  {
   "cell_type": "code",
   "execution_count": 1,
   "id": "0b34df15-930c-424b-8fab-3b6b5d21fb35",
   "metadata": {},
   "outputs": [],
   "source": [
    "from clustering import *"
   ]
  },
  {
   "cell_type": "markdown",
   "id": "cc41617d-b6a7-4a10-87d6-09fc576cf874",
   "metadata": {},
   "source": [
    "### Generating random clusters\n",
    "\n",
    "We create a random number of clusters, consisted of random number of points in a space"
   ]
  },
  {
   "cell_type": "code",
   "execution_count": 4,
   "id": "7c592a74-8b1d-4b1f-83c3-cb505a7668b3",
   "metadata": {},
   "outputs": [],
   "source": [
    "x_max=15\n",
    "y_max=15\n",
    "z_max=15\n",
    "radius=2.5\n",
    "min_groups=6\n",
    "max_groups=12\n",
    "k= 2\n",
    "\n",
    "k_init=5\n",
    "k_max=10\n",
    "max_tries=3\n",
    "\n",
    "set_of_points=[]\n",
    "set_of_clusters=[]\n",
    "ks=[]\n",
    "inits=[]"
   ]
  },
  {
   "cell_type": "markdown",
   "id": "16877f89-7eb2-41e5-b5f3-d76bc535aa84",
   "metadata": {},
   "source": [
    "## The mean-k algorithm\n",
    "Performed for k=2 to 10 to find the best clustering"
   ]
  },
  {
   "cell_type": "code",
   "execution_count": null,
   "id": "d2878b56-d84d-4b24-a65c-635eb1b95b5b",
   "metadata": {},
   "outputs": [
    {
     "name": "stdout",
     "output_type": "stream",
     "text": [
      "Random Vector Function Complete. 445 numbers of points was created in 10 groups.\n"
     ]
    }
   ],
   "source": [
    "for i in range(0,20):\n",
    "\tradius = random.uniform(1,3)\n",
    "\tpoints = gerenate_random_vectors(x_max,y_max,z_max,radius,min_groups,max_groups)\n",
    "\n",
    "\tclusters, k, init = clustering_k(points,k_init,k_max,max_tries)\n",
    "\n",
    "\tset_of_points.append(points)\n",
    "\tset_of_clusters.append(clusters)\n",
    "\tks.append(k)\n",
    "\tinits.append(init)\n",
    "\n",
    "print(\"FINISHED\")"
   ]
  },
  {
   "cell_type": "code",
   "execution_count": null,
   "id": "748caaa4-6366-49a9-a021-2e39f21ddaf9",
   "metadata": {},
   "outputs": [],
   "source": []
  }
 ],
 "metadata": {
  "kernelspec": {
   "display_name": "Python 3 (ipykernel)",
   "language": "python",
   "name": "python3"
  },
  "language_info": {
   "codemirror_mode": {
    "name": "ipython",
    "version": 3
   },
   "file_extension": ".py",
   "mimetype": "text/x-python",
   "name": "python",
   "nbconvert_exporter": "python",
   "pygments_lexer": "ipython3",
   "version": "3.10.11"
  }
 },
 "nbformat": 4,
 "nbformat_minor": 5
}
